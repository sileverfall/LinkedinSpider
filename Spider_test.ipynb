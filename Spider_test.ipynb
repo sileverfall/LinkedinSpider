{
 "cells": [
  {
   "cell_type": "code",
   "execution_count": 1,
   "metadata": {
    "collapsed": true
   },
   "outputs": [],
   "source": [
    "import sys\n",
    "import copy\n",
    "import time\n",
    "from urllib.parse import unquote\n",
    "import requests\n",
    "from urllib.parse import quote\n",
    "import re\n",
    "from lxml import etree"
   ]
  },
  {
   "cell_type": "markdown",
   "metadata": {},
   "source": [
    "## Login"
   ]
  },
  {
   "cell_type": "code",
   "execution_count": 2,
   "metadata": {
    "collapsed": true
   },
   "outputs": [],
   "source": [
    "def login(laccount, lpassword):\n",
    "    \"\"\" 根据账号密码登录linkedin \"\"\"\n",
    "    s = requests.Session()\n",
    "    r = s.get('https://www.linkedin.com/uas/login')\n",
    "    tree = etree.HTML(r.content)\n",
    "    loginCsrfParam = ''.join(tree.xpath('//input[@id=\"loginCsrfParam-login\"]/@value'))\n",
    "    csrfToken = ''.join(tree.xpath('//input[@id=\"csrfToken-login\"]/@value'))\n",
    "    sourceAlias = ''.join(tree.xpath('//input[@id=\"sourceAlias-login\"]/@value'))\n",
    "    isJsEnabled = ''.join(tree.xpath('//input[@name=\"isJsEnabled\"]/@value'))\n",
    "    source_app = ''.join(tree.xpath('//input[@name=\"source_app\"]/@value'))\n",
    "    tryCount = ''.join(tree.xpath('//input[@id=\"tryCount\"]/@value'))\n",
    "    clickedSuggestion = ''.join(tree.xpath('//input[@id=\"clickedSuggestion\"]/@value'))\n",
    "    signin = ''.join(tree.xpath('//input[@name=\"signin\"]/@value'))\n",
    "    session_redirect = ''.join(tree.xpath('//input[@name=\"session_redirect\"]/@value'))\n",
    "    trk = ''.join(tree.xpath('//input[@name=\"trk\"]/@value'))\n",
    "    fromEmail = ''.join(tree.xpath('//input[@name=\"fromEmail\"]/@value'))\n",
    "\n",
    "    payload = {\n",
    "        'isJsEnabled': isJsEnabled,\n",
    "        'source_app': source_app,\n",
    "        'tryCount': tryCount,\n",
    "        'clickedSuggestion': clickedSuggestion,\n",
    "        'session_key': laccount,\n",
    "        'session_password': lpassword,\n",
    "        'signin': signin,\n",
    "        'session_redirect': session_redirect,\n",
    "        'trk': trk,\n",
    "        'loginCsrfParam': loginCsrfParam,\n",
    "        'fromEmail': fromEmail,\n",
    "        'csrfToken': csrfToken,\n",
    "        'sourceAlias': sourceAlias\n",
    "    }\n",
    "    s.post('https://www.linkedin.com/uas/login-submit', data=payload)\n",
    "    return s"
   ]
  },
  {
   "cell_type": "code",
   "execution_count": 3,
   "metadata": {
    "collapsed": true
   },
   "outputs": [],
   "source": [
    "s = login(laccount='tsb1071463@gmail.com', lpassword='Alisa0504')"
   ]
  },
  {
   "cell_type": "code",
   "execution_count": 4,
   "metadata": {},
   "outputs": [
    {
     "name": "stdout",
     "output_type": "stream",
     "text": [
      "Input the company you want to crawl:台積電\n"
     ]
    }
   ],
   "source": [
    "company_name = input('Input the company you want to crawl:')"
   ]
  },
  {
   "cell_type": "markdown",
   "metadata": {},
   "source": [
    "## get_Linkedin_url"
   ]
  },
  {
   "cell_type": "code",
   "execution_count": 5,
   "metadata": {
    "collapsed": true
   },
   "outputs": [],
   "source": [
    "def get_linkedin_url(url, s):\n",
    "    try:\n",
    "        r = s.get(url, allow_redirects=False)\n",
    "        if r.status_code == 999:\n",
    "            return re.findall(r'^https://tw\\.linkedin\\.com/in/.*',url)\n",
    "    except Exception as e:\n",
    "        print ('get linkedin url failed: %s' % url)\n",
    "    return ''"
   ]
  },
  {
   "cell_type": "code",
   "execution_count": 6,
   "metadata": {
    "collapsed": true
   },
   "outputs": [],
   "source": [
    "def crawl(url, s):\n",
    "    \"\"\" 抓取每一个搜索结果 \"\"\"\n",
    "    try:\n",
    "        url = get_linkedin_url(href, copy.deepcopy(s))[0].replace('tw.linkedin.com', 'www.linkedin.com')\n",
    "        print(url)\n",
    "        if len(url) > 0 and url not in LINKS_FINISHED:\n",
    "            LINKS_FINISHED.append(url)\n",
    "            failure = 0\n",
    "            try:\n",
    "                r = s.get(url, timeout=10)\n",
    "            except Exception as e:\n",
    "                failure += 1\n",
    "            if r.status_code != 200:\n",
    "                time.sleep(1)\n",
    "#                     parse(r.content, url)\n",
    "#                     break\n",
    "#                 else:\n",
    "#                     print ('%s %s' % (r.status_code, url))\n",
    "#                     failure += 2\n",
    "    except Exception as e:\n",
    "        pass"
   ]
  },
  {
   "cell_type": "code",
   "execution_count": 15,
   "metadata": {
    "collapsed": true
   },
   "outputs": [],
   "source": [
    "url = 'https://www.google.com/search?q=Linkedin+' + quote(company_name)+'&oq=Linkedin+'+ quote(company_name)"
   ]
  },
  {
   "cell_type": "code",
   "execution_count": 23,
   "metadata": {},
   "outputs": [
    {
     "ename": "KeyboardInterrupt",
     "evalue": "",
     "output_type": "error",
     "traceback": [
      "\u001b[0;31m---------------------------------------------------------------------------\u001b[0m",
      "\u001b[0;31mKeyboardInterrupt\u001b[0m                         Traceback (most recent call last)",
      "\u001b[0;32m<ipython-input-23-ce5e1acf0be0>\u001b[0m in \u001b[0;36m<module>\u001b[0;34m()\u001b[0m\n\u001b[0;32m----> 1\u001b[0;31m \u001b[0mget_ipython\u001b[0m\u001b[0;34m(\u001b[0m\u001b[0;34m)\u001b[0m\u001b[0;34m.\u001b[0m\u001b[0mrun_cell_magic\u001b[0m\u001b[0;34m(\u001b[0m\u001b[0;34m'time'\u001b[0m\u001b[0;34m,\u001b[0m \u001b[0;34m''\u001b[0m\u001b[0;34m,\u001b[0m \u001b[0;34m'LINKS_FINISHED=[]\\nmaxpage = 3 \\nfailure = 0\\nwhile len(url) > 0 and failure < 10:\\n    try:\\n        res = requests.get(url,timeout=10)\\n        soup = bs(res.text,\"lxml\")\\n    except Exception as e:\\n        failure += 1\\n        continue\\n    if res.status_code == 200:\\n        hrefs=[i.parent[\\'href\\'].split(\\'q=\\')[1].split(\\'&\\')[0] for i in soup.select(\\'a > div.BNeawe.vvjwJb.AP7Wnd\\')]\\n        for href in hrefs:\\n            crawl(href, copy.deepcopy(s)) \\n#             tree = etree.HTML(r.content)\\n        nextpage = soup.select(\\'a.nBDE1b.G5eFlf\\')[0][\\'href\\']\\n        url = \\'https://www.google.com\\' + nextpage if nextpage else \\'\\'\\n        failure = 0\\n        maxpage -= 1\\n        if maxpage <= 0:\\n            break\\n    elif res.status_code == 429:\\n        time.sleep(60)\\n    else:\\n        failure += 2\\n        print (\\'search failed: %s\\' % res.status_code)\\nif failure >= 10:\\n    print (\\'search failed: %s\\' % url)'\u001b[0m\u001b[0;34m)\u001b[0m\u001b[0;34m\u001b[0m\u001b[0m\n\u001b[0m",
      "\u001b[0;32m/usr/local/Cellar/python3/3.6.1/Frameworks/Python.framework/Versions/3.6/lib/python3.6/site-packages/IPython/core/interactiveshell.py\u001b[0m in \u001b[0;36mrun_cell_magic\u001b[0;34m(self, magic_name, line, cell)\u001b[0m\n\u001b[1;32m   2113\u001b[0m             \u001b[0mmagic_arg_s\u001b[0m \u001b[0;34m=\u001b[0m \u001b[0mself\u001b[0m\u001b[0;34m.\u001b[0m\u001b[0mvar_expand\u001b[0m\u001b[0;34m(\u001b[0m\u001b[0mline\u001b[0m\u001b[0;34m,\u001b[0m \u001b[0mstack_depth\u001b[0m\u001b[0;34m)\u001b[0m\u001b[0;34m\u001b[0m\u001b[0m\n\u001b[1;32m   2114\u001b[0m             \u001b[0;32mwith\u001b[0m \u001b[0mself\u001b[0m\u001b[0;34m.\u001b[0m\u001b[0mbuiltin_trap\u001b[0m\u001b[0;34m:\u001b[0m\u001b[0;34m\u001b[0m\u001b[0m\n\u001b[0;32m-> 2115\u001b[0;31m                 \u001b[0mresult\u001b[0m \u001b[0;34m=\u001b[0m \u001b[0mfn\u001b[0m\u001b[0;34m(\u001b[0m\u001b[0mmagic_arg_s\u001b[0m\u001b[0;34m,\u001b[0m \u001b[0mcell\u001b[0m\u001b[0;34m)\u001b[0m\u001b[0;34m\u001b[0m\u001b[0m\n\u001b[0m\u001b[1;32m   2116\u001b[0m             \u001b[0;32mreturn\u001b[0m \u001b[0mresult\u001b[0m\u001b[0;34m\u001b[0m\u001b[0m\n\u001b[1;32m   2117\u001b[0m \u001b[0;34m\u001b[0m\u001b[0m\n",
      "\u001b[0;32m<decorator-gen-59>\u001b[0m in \u001b[0;36mtime\u001b[0;34m(self, line, cell, local_ns)\u001b[0m\n",
      "\u001b[0;32m/usr/local/Cellar/python3/3.6.1/Frameworks/Python.framework/Versions/3.6/lib/python3.6/site-packages/IPython/core/magic.py\u001b[0m in \u001b[0;36m<lambda>\u001b[0;34m(f, *a, **k)\u001b[0m\n\u001b[1;32m    186\u001b[0m     \u001b[0;31m# but it's overkill for just that one bit of state.\u001b[0m\u001b[0;34m\u001b[0m\u001b[0;34m\u001b[0m\u001b[0m\n\u001b[1;32m    187\u001b[0m     \u001b[0;32mdef\u001b[0m \u001b[0mmagic_deco\u001b[0m\u001b[0;34m(\u001b[0m\u001b[0marg\u001b[0m\u001b[0;34m)\u001b[0m\u001b[0;34m:\u001b[0m\u001b[0;34m\u001b[0m\u001b[0m\n\u001b[0;32m--> 188\u001b[0;31m         \u001b[0mcall\u001b[0m \u001b[0;34m=\u001b[0m \u001b[0;32mlambda\u001b[0m \u001b[0mf\u001b[0m\u001b[0;34m,\u001b[0m \u001b[0;34m*\u001b[0m\u001b[0ma\u001b[0m\u001b[0;34m,\u001b[0m \u001b[0;34m**\u001b[0m\u001b[0mk\u001b[0m\u001b[0;34m:\u001b[0m \u001b[0mf\u001b[0m\u001b[0;34m(\u001b[0m\u001b[0;34m*\u001b[0m\u001b[0ma\u001b[0m\u001b[0;34m,\u001b[0m \u001b[0;34m**\u001b[0m\u001b[0mk\u001b[0m\u001b[0;34m)\u001b[0m\u001b[0;34m\u001b[0m\u001b[0m\n\u001b[0m\u001b[1;32m    189\u001b[0m \u001b[0;34m\u001b[0m\u001b[0m\n\u001b[1;32m    190\u001b[0m         \u001b[0;32mif\u001b[0m \u001b[0mcallable\u001b[0m\u001b[0;34m(\u001b[0m\u001b[0marg\u001b[0m\u001b[0;34m)\u001b[0m\u001b[0;34m:\u001b[0m\u001b[0;34m\u001b[0m\u001b[0m\n",
      "\u001b[0;32m/usr/local/Cellar/python3/3.6.1/Frameworks/Python.framework/Versions/3.6/lib/python3.6/site-packages/IPython/core/magics/execution.py\u001b[0m in \u001b[0;36mtime\u001b[0;34m(self, line, cell, local_ns)\u001b[0m\n\u001b[1;32m   1183\u001b[0m         \u001b[0;32melse\u001b[0m\u001b[0;34m:\u001b[0m\u001b[0;34m\u001b[0m\u001b[0m\n\u001b[1;32m   1184\u001b[0m             \u001b[0mst\u001b[0m \u001b[0;34m=\u001b[0m \u001b[0mclock2\u001b[0m\u001b[0;34m(\u001b[0m\u001b[0;34m)\u001b[0m\u001b[0;34m\u001b[0m\u001b[0m\n\u001b[0;32m-> 1185\u001b[0;31m             \u001b[0mexec\u001b[0m\u001b[0;34m(\u001b[0m\u001b[0mcode\u001b[0m\u001b[0;34m,\u001b[0m \u001b[0mglob\u001b[0m\u001b[0;34m,\u001b[0m \u001b[0mlocal_ns\u001b[0m\u001b[0;34m)\u001b[0m\u001b[0;34m\u001b[0m\u001b[0m\n\u001b[0m\u001b[1;32m   1186\u001b[0m             \u001b[0mend\u001b[0m \u001b[0;34m=\u001b[0m \u001b[0mclock2\u001b[0m\u001b[0;34m(\u001b[0m\u001b[0;34m)\u001b[0m\u001b[0;34m\u001b[0m\u001b[0m\n\u001b[1;32m   1187\u001b[0m             \u001b[0mout\u001b[0m \u001b[0;34m=\u001b[0m \u001b[0;32mNone\u001b[0m\u001b[0;34m\u001b[0m\u001b[0m\n",
      "\u001b[0;32m<timed exec>\u001b[0m in \u001b[0;36m<module>\u001b[0;34m()\u001b[0m\n",
      "\u001b[0;31mKeyboardInterrupt\u001b[0m: "
     ]
    }
   ],
   "source": [
    "%%time\n",
    "LINKS_FINISHED=[]\n",
    "maxpage = 3 \n",
    "failure = 0\n",
    "while len(url) > 0 and failure < 10:\n",
    "    try:\n",
    "        res = requests.get(url,timeout=10)\n",
    "        soup = bs(res.text,\"lxml\")\n",
    "    except Exception as e:\n",
    "        failure += 1\n",
    "        continue\n",
    "    if res.status_code == 200:\n",
    "        hrefs=[i.parent['href'].split('q=')[1].split('&')[0] for i in soup.select('a > div.BNeawe.vvjwJb.AP7Wnd')]\n",
    "        for href in hrefs:\n",
    "            crawl(href, copy.deepcopy(s)) \n",
    "#             tree = etree.HTML(r.content)\n",
    "        nextpage = soup.select('a.nBDE1b.G5eFlf')[0]['href']\n",
    "        url = 'https://www.google.com' + nextpage if nextpage else ''\n",
    "        failure = 0\n",
    "        maxpage -= 1\n",
    "        if maxpage <= 0:\n",
    "            break\n",
    "    elif res.status_code == 429:\n",
    "        time.sleep(60)\n",
    "    else:\n",
    "        failure += 2\n",
    "        print ('search failed: %s' % res.status_code)\n",
    "if failure >= 10:\n",
    "    print ('search failed: %s' % url)"
   ]
  },
  {
   "cell_type": "code",
   "execution_count": null,
   "metadata": {},
   "outputs": [],
   "source": [
    "from pprint import pprint "
   ]
  },
  {
   "cell_type": "code",
   "execution_count": null,
   "metadata": {},
   "outputs": [],
   "source": [
    "url"
   ]
  },
  {
   "cell_type": "code",
   "execution_count": null,
   "metadata": {},
   "outputs": [],
   "source": [
    "'https://www.google.com'+soup.select('a.nBDE1b.G5eFlf')[0]['href']"
   ]
  },
  {
   "cell_type": "code",
   "execution_count": null,
   "metadata": {
    "collapsed": true
   },
   "outputs": [],
   "source": []
  }
 ],
 "metadata": {
  "kernelspec": {
   "display_name": "Python 3",
   "language": "python",
   "name": "python3"
  },
  "language_info": {
   "codemirror_mode": {
    "name": "ipython",
    "version": 3
   },
   "file_extension": ".py",
   "mimetype": "text/x-python",
   "name": "python",
   "nbconvert_exporter": "python",
   "pygments_lexer": "ipython3",
   "version": "3.6.1"
  }
 },
 "nbformat": 4,
 "nbformat_minor": 2
}
